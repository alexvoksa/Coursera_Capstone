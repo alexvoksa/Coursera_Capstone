{
 "cells": [
  {
   "cell_type": "code",
   "execution_count": 1,
   "metadata": {},
   "outputs": [],
   "source": [
    "import folium"
   ]
  },
  {
   "cell_type": "code",
   "execution_count": 138,
   "metadata": {},
   "outputs": [],
   "source": [
    "import pandas as pd\n",
    "import numpy as np\n",
    "import matplotlib.pyplot as plt\n",
    "import seaborn as sns\n",
    "pd.set_option('display.max_columns', None)"
   ]
  },
  {
   "cell_type": "code",
   "execution_count": 12,
   "metadata": {},
   "outputs": [],
   "source": [
    "table = pd.read_json('coords_coronavirus_on_date.txt')"
   ]
  },
  {
   "cell_type": "code",
   "execution_count": 13,
   "metadata": {},
   "outputs": [
    {
     "data": {
      "text/html": [
       "<div>\n",
       "<style scoped>\n",
       "    .dataframe tbody tr th:only-of-type {\n",
       "        vertical-align: middle;\n",
       "    }\n",
       "\n",
       "    .dataframe tbody tr th {\n",
       "        vertical-align: top;\n",
       "    }\n",
       "\n",
       "    .dataframe thead th {\n",
       "        text-align: right;\n",
       "    }\n",
       "</style>\n",
       "<table border=\"1\" class=\"dataframe\">\n",
       "  <thead>\n",
       "    <tr style=\"text-align: right;\">\n",
       "      <th></th>\n",
       "      <th>date</th>\n",
       "      <th>coordinates</th>\n",
       "    </tr>\n",
       "  </thead>\n",
       "  <tbody>\n",
       "    <tr>\n",
       "      <th>0</th>\n",
       "      <td>24 марта</td>\n",
       "      <td>[[55.865884, 37.589033], [55.774234, 37.677751...</td>\n",
       "    </tr>\n",
       "    <tr>\n",
       "      <th>1</th>\n",
       "      <td>25 марта</td>\n",
       "      <td>[[55.852278, 37.658338], [55.673747, 37.6547],...</td>\n",
       "    </tr>\n",
       "    <tr>\n",
       "      <th>2</th>\n",
       "      <td>26 марта</td>\n",
       "      <td>[[55.618181, 37.660772], [55.898069, 37.615623...</td>\n",
       "    </tr>\n",
       "    <tr>\n",
       "      <th>3</th>\n",
       "      <td>27 марта</td>\n",
       "      <td>[[55.635691, 37.724912], [55.738622, 37.602813...</td>\n",
       "    </tr>\n",
       "    <tr>\n",
       "      <th>4</th>\n",
       "      <td>28 марта</td>\n",
       "      <td>[[55.648093, 37.394027], [55.545375, 37.523824...</td>\n",
       "    </tr>\n",
       "  </tbody>\n",
       "</table>\n",
       "</div>"
      ],
      "text/plain": [
       "       date                                        coordinates\n",
       "0  24 марта  [[55.865884, 37.589033], [55.774234, 37.677751...\n",
       "1  25 марта  [[55.852278, 37.658338], [55.673747, 37.6547],...\n",
       "2  26 марта  [[55.618181, 37.660772], [55.898069, 37.615623...\n",
       "3  27 марта  [[55.635691, 37.724912], [55.738622, 37.602813...\n",
       "4  28 марта  [[55.648093, 37.394027], [55.545375, 37.523824..."
      ]
     },
     "execution_count": 13,
     "metadata": {},
     "output_type": "execute_result"
    }
   ],
   "source": [
    "table.head()"
   ]
  },
  {
   "cell_type": "code",
   "execution_count": 20,
   "metadata": {},
   "outputs": [],
   "source": [
    "df = pd.DataFrame([i for i in table.coordinates], index=table.date)"
   ]
  },
  {
   "cell_type": "code",
   "execution_count": 24,
   "metadata": {},
   "outputs": [
    {
     "data": {
      "text/plain": [
       "[55.535417, 37.062297]"
      ]
     },
     "execution_count": 24,
     "metadata": {},
     "output_type": "execute_result"
    }
   ],
   "source": [
    "df.loc['15 мая',0]"
   ]
  },
  {
   "cell_type": "code",
   "execution_count": 95,
   "metadata": {},
   "outputs": [
    {
     "data": {
      "text/html": [
       "<div>\n",
       "<style scoped>\n",
       "    .dataframe tbody tr th:only-of-type {\n",
       "        vertical-align: middle;\n",
       "    }\n",
       "\n",
       "    .dataframe tbody tr th {\n",
       "        vertical-align: top;\n",
       "    }\n",
       "\n",
       "    .dataframe thead th {\n",
       "        text-align: right;\n",
       "    }\n",
       "</style>\n",
       "<table border=\"1\" class=\"dataframe\">\n",
       "  <thead>\n",
       "    <tr style=\"text-align: right;\">\n",
       "      <th></th>\n",
       "      <th>date</th>\n",
       "      <th>quantity</th>\n",
       "    </tr>\n",
       "  </thead>\n",
       "  <tbody>\n",
       "    <tr>\n",
       "      <th>0</th>\n",
       "      <td>24 марта</td>\n",
       "      <td>97</td>\n",
       "    </tr>\n",
       "    <tr>\n",
       "      <th>1</th>\n",
       "      <td>25 марта</td>\n",
       "      <td>41</td>\n",
       "    </tr>\n",
       "    <tr>\n",
       "      <th>2</th>\n",
       "      <td>26 марта</td>\n",
       "      <td>42</td>\n",
       "    </tr>\n",
       "    <tr>\n",
       "      <th>3</th>\n",
       "      <td>27 марта</td>\n",
       "      <td>64</td>\n",
       "    </tr>\n",
       "    <tr>\n",
       "      <th>4</th>\n",
       "      <td>28 марта</td>\n",
       "      <td>72</td>\n",
       "    </tr>\n",
       "  </tbody>\n",
       "</table>\n",
       "</div>"
      ],
      "text/plain": [
       "       date quantity\n",
       "0  24 марта       97\n",
       "1  25 марта       41\n",
       "2  26 марта       42\n",
       "3  27 марта       64\n",
       "4  28 марта       72"
      ]
     },
     "execution_count": 95,
     "metadata": {},
     "output_type": "execute_result"
    }
   ],
   "source": [
    "data = pd.DataFrame([df.index, [len([x for x in df.iloc[i] if x is not None]) for i in range(len(df))]]).T\n",
    "data.columns = ['date', 'quantity']\n",
    "data.head()"
   ]
  },
  {
   "cell_type": "code",
   "execution_count": 135,
   "metadata": {},
   "outputs": [],
   "source": [
    "x = [i for i in range(len(data))]\n",
    "y = data.quantity.astype(float)"
   ]
  },
  {
   "cell_type": "code",
   "execution_count": 147,
   "metadata": {},
   "outputs": [
    {
     "data": {
      "image/png": "[encoded data removed]",
      "text/plain": [
       "<Figure size 1440x576 with 1 Axes>"
      ]
     },
     "metadata": {
      "needs_background": "light"
     },
     "output_type": "display_data"
    }
   ],
   "source": [
    "fig = plt.figure(figsize=(20, 8))\n",
    "ax = plt.bar(x=data.date, height=y)\n",
    "plt.xticks(rotation='vertical')\n",
    "plt.ylabel('Кол-во зарегистрированных заражений')\n",
    "plt.xlabel('Дата')\n",
    "plt.title('Кол-во зарегистрированных заражений COVID-19 по дням')\n",
    "plt.show()"
   ]
  },
  {
   "cell_type": "code",
   "execution_count": 132,
   "metadata": {},
   "outputs": [
    {
     "data": {
      "text/plain": [
       "Text(0.5, 1.0, 'Нормализованный график распределения')"
      ]
     },
     "execution_count": 132,
     "metadata": {},
     "output_type": "execute_result"
    },
    {
     "data": {
      "image/png": "[encoded data removed]",
      "text/plain": [
       "<Figure size 1440x576 with 1 Axes>"
      ]
     },
     "metadata": {
      "needs_background": "light"
     },
     "output_type": "display_data"
    }
   ],
   "source": [
    "fig1 = plt.figure(figsize=(20, 8))\n",
    "ax1 = sns.distplot((y-y.max())/(y.min()-y.max()), hist=False)\n",
    "plt.xlabel('Кол-во выявленных зараженных')\n",
    "plt.title('Нормализованный график распределения')"
   ]
  },
  {
   "cell_type": "code",
   "execution_count": 152,
   "metadata": {},
   "outputs": [
    {
     "data": {
      "text/plain": [
       "0       97\n",
       "1       41\n",
       "2       42\n",
       "3       64\n",
       "4       72\n",
       "5      107\n",
       "6      217\n",
       "7        7\n",
       "8      104\n",
       "9      133\n",
       "10     118\n",
       "11     113\n",
       "12     541\n",
       "13     200\n",
       "14     227\n",
       "15     128\n",
       "16     639\n",
       "17    1297\n",
       "18     175\n",
       "19     360\n",
       "20     654\n",
       "21    1041\n",
       "22     739\n",
       "23     651\n",
       "24     606\n",
       "25     811\n",
       "26     410\n",
       "27    1336\n",
       "28     892\n",
       "29    1280\n",
       "30     712\n",
       "31     670\n",
       "32     686\n",
       "33     581\n",
       "34     100\n",
       "35     442\n",
       "36     957\n",
       "37     227\n",
       "38     642\n",
       "39     252\n",
       "40     754\n",
       "41     169\n",
       "42     841\n",
       "43     372\n",
       "44     547\n",
       "45     219\n",
       "46     765\n",
       "47    1030\n",
       "48     637\n",
       "49     988\n",
       "50     644\n",
       "51     611\n",
       "52     339\n",
       "Name: quantity, dtype: object"
      ]
     },
     "execution_count": 152,
     "metadata": {},
     "output_type": "execute_result"
    }
   ],
   "source": [
    "data.quantity"
   ]
  },
  {
   "cell_type": "code",
   "execution_count": 153,
   "metadata": {},
   "outputs": [
    {
     "data": {
      "text/plain": [
       "0        97\n",
       "1       138\n",
       "2       180\n",
       "3       244\n",
       "4       316\n",
       "5       423\n",
       "6       640\n",
       "7       647\n",
       "8       751\n",
       "9       884\n",
       "10     1002\n",
       "11     1115\n",
       "12     1656\n",
       "13     1856\n",
       "14     2083\n",
       "15     2211\n",
       "16     2850\n",
       "17     4147\n",
       "18     4322\n",
       "19     4682\n",
       "20     5336\n",
       "21     6377\n",
       "22     7116\n",
       "23     7767\n",
       "24     8373\n",
       "25     9184\n",
       "26     9594\n",
       "27    10930\n",
       "28    11822\n",
       "29    13102\n",
       "30    13814\n",
       "31    14484\n",
       "32    15170\n",
       "33    15751\n",
       "34    15851\n",
       "35    16293\n",
       "36    17250\n",
       "37    17477\n",
       "38    18119\n",
       "39    18371\n",
       "40    19125\n",
       "41    19294\n",
       "42    20135\n",
       "43    20507\n",
       "44    21054\n",
       "45    21273\n",
       "46    22038\n",
       "47    23068\n",
       "48    23705\n",
       "49    24693\n",
       "50    25337\n",
       "51    25948\n",
       "52    26287\n",
       "Name: quantity, dtype: object"
      ]
     },
     "execution_count": 153,
     "metadata": {},
     "output_type": "execute_result"
    }
   ],
   "source": [
    "data.quantity.cumsum()"
   ]
  },
  {
   "cell_type": "code",
   "execution_count": 154,
   "metadata": {},
   "outputs": [
    {
     "data": {
      "text/plain": [
       "574889"
      ]
     },
     "execution_count": 154,
     "metadata": {},
     "output_type": "execute_result"
    }
   ],
   "source": [
    "data.quantity.cumsum().sum()"
   ]
  },
  {
   "cell_type": "code",
   "execution_count": null,
   "metadata": {},
   "outputs": [],
   "source": []
  }
 ],
 "metadata": {
  "kernelspec": {
   "display_name": "Python 3",
   "language": "python",
   "name": "python3"
  },
  "language_info": {
   "codemirror_mode": {
    "name": "ipython",
    "version": 3
   },
   "file_extension": ".py",
   "mimetype": "text/x-python",
   "name": "python",
   "nbconvert_exporter": "python",
   "pygments_lexer": "ipython3",
   "version": "3.8.2"
  }
 },
 "nbformat": 4,
 "nbformat_minor": 4
}
